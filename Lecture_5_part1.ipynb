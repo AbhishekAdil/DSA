{
 "cells": [
  {
   "cell_type": "markdown",
   "id": "87064b8f-1806-4b88-8b92-4293dc92c583",
   "metadata": {},
   "source": [
    "# Process using python dictionary"
   ]
  },
  {
   "cell_type": "code",
   "execution_count": 2,
   "id": "9a5a60be-5026-4a95-9ad2-0ba6ca7ee1a3",
   "metadata": {},
   "outputs": [],
   "source": [
    "stock_prices = []\n",
    "with open(\"stock_prices.csv\",\"r\") as f:\n",
    "    for line in f:\n",
    "        tokens = line.split(',')\n",
    "        day = tokens[0]\n",
    "        price = float(tokens[1])\n",
    "        stock_prices.append([day,price])"
   ]
  },
  {
   "cell_type": "code",
   "execution_count": 3,
   "id": "dce71f28-ecce-4d13-bd5b-df5997aad448",
   "metadata": {},
   "outputs": [
    {
     "data": {
      "text/plain": [
       "[['march 6', 310.0],\n",
       " ['march 7', 340.0],\n",
       " ['march 8', 380.0],\n",
       " ['march 9', 302.0],\n",
       " ['march 10', 297.0],\n",
       " ['march 11', 323.0]]"
      ]
     },
     "execution_count": 3,
     "metadata": {},
     "output_type": "execute_result"
    }
   ],
   "source": [
    "stock_prices"
   ]
  },
  {
   "cell_type": "code",
   "execution_count": 4,
   "id": "37de4659-b78a-4b9d-a672-0e497171fff2",
   "metadata": {},
   "outputs": [
    {
     "data": {
      "text/plain": [
       "['march 6', 310.0]"
      ]
     },
     "execution_count": 4,
     "metadata": {},
     "output_type": "execute_result"
    }
   ],
   "source": [
    "stock_prices[0]"
   ]
  },
  {
   "cell_type": "markdown",
   "id": "46e8f11c-3b52-496c-b62f-bcc104ef2709",
   "metadata": {},
   "source": [
    "# Find stock price on March 9"
   ]
  },
  {
   "cell_type": "code",
   "execution_count": 5,
   "id": "59dfff89-5950-47f1-97d8-887d8c45fffc",
   "metadata": {},
   "outputs": [
    {
     "name": "stdout",
     "output_type": "stream",
     "text": [
      "302.0\n"
     ]
    }
   ],
   "source": [
    "for element in stock_prices:\n",
    "    if element[0] == 'march 9':\n",
    "        print(element[1])"
   ]
  },
  {
   "cell_type": "markdown",
   "id": "d3ac7d4d-e5e2-422a-a624-2d6edc4f3e3a",
   "metadata": {
    "jp-MarkdownHeadingCollapsed": true
   },
   "source": [
    "# Complexity of search using a list is O(n)"
   ]
  },
  {
   "cell_type": "markdown",
   "id": "c05d75ee-9ff1-4828-a966-0380ccbb7138",
   "metadata": {},
   "source": [
    "# Process using python dictionary"
   ]
  },
  {
   "cell_type": "code",
   "execution_count": 6,
   "id": "158a7e1b-11d2-45ea-8254-5c7bdcae5387",
   "metadata": {},
   "outputs": [],
   "source": [
    "stock_prices = {}\n",
    "with open(\"stock_prices.csv\",\"r\") as f:\n",
    "    for line in f:\n",
    "        tokens = line.split(',')\n",
    "        day = tokens[0]\n",
    "        price = float(tokens[1])\n",
    "        stock_prices[day] = price"
   ]
  },
  {
   "cell_type": "code",
   "execution_count": 7,
   "id": "e3cb3b2f-32f7-464f-9790-cde0d48808ba",
   "metadata": {},
   "outputs": [
    {
     "data": {
      "text/plain": [
       "{'march 6': 310.0,\n",
       " 'march 7': 340.0,\n",
       " 'march 8': 380.0,\n",
       " 'march 9': 302.0,\n",
       " 'march 10': 297.0,\n",
       " 'march 11': 323.0}"
      ]
     },
     "execution_count": 7,
     "metadata": {},
     "output_type": "execute_result"
    }
   ],
   "source": [
    "stock_prices"
   ]
  },
  {
   "cell_type": "markdown",
   "id": "c2c5e1f7-fb39-44eb-8a53-0eca910b64ff",
   "metadata": {},
   "source": [
    "# Find stock price on March 9"
   ]
  },
  {
   "cell_type": "code",
   "execution_count": 8,
   "id": "4db1573c-accb-4076-9886-f07e38d31787",
   "metadata": {},
   "outputs": [
    {
     "data": {
      "text/plain": [
       "302.0"
      ]
     },
     "execution_count": 8,
     "metadata": {},
     "output_type": "execute_result"
    }
   ],
   "source": [
    "stock_prices['march 9']"
   ]
  },
  {
   "cell_type": "markdown",
   "id": "e8544ea5-c6b2-4eed-9dec-0212f574c449",
   "metadata": {},
   "source": [
    "# Complexity of search using dictionary is O(1)"
   ]
  },
  {
   "cell_type": "markdown",
   "id": "4aea007e-c7f9-48b9-bc16-5a7cabae9f66",
   "metadata": {},
   "source": [
    "# Implement Hash Table"
   ]
  },
  {
   "cell_type": "code",
   "execution_count": 18,
   "id": "83cf2861-1af0-4648-8106-b0a074e6100c",
   "metadata": {},
   "outputs": [],
   "source": [
    "# Writting a hash fuction\n",
    "\n",
    "def get_hash(key):   # key - > take string value\n",
    "    hash = 0       \n",
    "    for char in key:     # it goes to each of the character og the key\n",
    "        hash += ord(char)   # ord function finds an ASCII value for that char \n",
    "        # hash += ord(char) -> sum all the ASCII values of the key\n",
    "    return hash % 100      # give the mode(reminder) value"
   ]
  },
  {
   "cell_type": "code",
   "execution_count": 19,
   "id": "5fea6e48-36c5-471c-b911-5451a7d26dab",
   "metadata": {},
   "outputs": [
    {
     "data": {
      "text/plain": [
       "109"
      ]
     },
     "execution_count": 19,
     "metadata": {},
     "output_type": "execute_result"
    }
   ],
   "source": [
    "ord('m')"
   ]
  },
  {
   "cell_type": "code",
   "execution_count": 20,
   "id": "af145f4f-e639-4a8e-a936-ec1899d8631e",
   "metadata": {},
   "outputs": [
    {
     "data": {
      "text/plain": [
       "114"
      ]
     },
     "execution_count": 20,
     "metadata": {},
     "output_type": "execute_result"
    }
   ],
   "source": [
    "ord('r')"
   ]
  },
  {
   "cell_type": "code",
   "execution_count": 21,
   "id": "6c23b639-7398-4496-9383-c4006b7c7769",
   "metadata": {},
   "outputs": [
    {
     "data": {
      "text/plain": [
       "9"
      ]
     },
     "execution_count": 21,
     "metadata": {},
     "output_type": "execute_result"
    }
   ],
   "source": [
    "get_hash('march 6')"
   ]
  },
  {
   "cell_type": "code",
   "execution_count": 22,
   "id": "37bf4dc5-64e1-4219-9c46-8654b37a0a77",
   "metadata": {},
   "outputs": [
    {
     "data": {
      "text/plain": [
       "61"
      ]
     },
     "execution_count": 22,
     "metadata": {},
     "output_type": "execute_result"
    }
   ],
   "source": [
    "get_hash('march 28')"
   ]
  },
  {
   "cell_type": "markdown",
   "id": "c9fed7f8-c6c0-4a82-bd19-ef1ab094389c",
   "metadata": {},
   "source": [
    "# Implement hash value"
   ]
  },
  {
   "cell_type": "code",
   "execution_count": 41,
   "id": "6509d65e-a167-4781-83da-8f5beded6739",
   "metadata": {},
   "outputs": [],
   "source": [
    "# create a class \n",
    "\n",
    "class HashTable:  \n",
    "    def __init__(self):\n",
    "        self.MAX = 100     # initialising 100 elements in this array using list comprehansion ->[None for i in range(self.MAX)]\n",
    "        self.arr = [None for i in range(self.MAX)]    # array(arr) -> size 100\n",
    "        # None -> To initialize a list of a specific length(100) with default values (None, in this case),\n",
    "        \n",
    "    def get_hash(self, key):\n",
    "        hash = 0\n",
    "        for char in key:\n",
    "            hash += ord(char)\n",
    "        return hash % self.MAX     # self.MAX = 100\n",
    "\n",
    "    # defining a function to add values in the hash map\n",
    "    def add(self, key, value):\n",
    "        h = self.get_hash(key)\n",
    "        self.arr[h] = value\n",
    "        print(\"value added\")\n",
    "\n",
    "    # defining a function to get the value from the hash map\n",
    "    def get(self, key):\n",
    "        h = self.get_hash(key)\n",
    "        return self.arr[h]"
   ]
  },
  {
   "cell_type": "code",
   "execution_count": 42,
   "id": "932a1d22-2bbc-4c0b-ab31-465b1b69a1da",
   "metadata": {},
   "outputs": [
    {
     "data": {
      "text/plain": [
       "9"
      ]
     },
     "execution_count": 42,
     "metadata": {},
     "output_type": "execute_result"
    }
   ],
   "source": [
    "# creating object \n",
    "t = HashTable()\n",
    "t.get_hash(\"march 6\")"
   ]
  },
  {
   "cell_type": "code",
   "execution_count": 43,
   "id": "8638334d-0efc-4da8-b996-96a11249bdff",
   "metadata": {},
   "outputs": [
    {
     "name": "stdout",
     "output_type": "stream",
     "text": [
      "value added\n"
     ]
    }
   ],
   "source": [
    "t.add('march 6', 130)  # adding value in the hash map"
   ]
  },
  {
   "cell_type": "code",
   "execution_count": 44,
   "id": "190ed4c2-6333-42e4-bcbe-b3d56af021c8",
   "metadata": {},
   "outputs": [
    {
     "data": {
      "text/plain": [
       "130"
      ]
     },
     "execution_count": 44,
     "metadata": {},
     "output_type": "execute_result"
    }
   ],
   "source": [
    "t.get('march 6')   # printing the value from the hash map"
   ]
  },
  {
   "cell_type": "markdown",
   "id": "330ecf75-6a73-4148-b080-3ed2808b05c0",
   "metadata": {},
   "source": [
    "# Adding and get value like in dictionary (__setitem__, __getitem__)"
   ]
  },
  {
   "cell_type": "code",
   "execution_count": 57,
   "id": "e8857939-1201-45fb-8e60-d884d0884175",
   "metadata": {},
   "outputs": [],
   "source": [
    "class HashTable:  \n",
    "    def __init__(self):\n",
    "        self.MAX = 100     # initialising 100 elements in this array using list comprehansion ->[None for i in range(self.MAX)]\n",
    "        self.arr = [None for i in range(self.MAX)]    # array(arr) -> size 100\n",
    "        # None -> To initialize a list of a specific length(100) with default values (None, in this case),\n",
    "        \n",
    "    def get_hash(self, key):\n",
    "        hash = 0\n",
    "        for char in key:\n",
    "            hash += ord(char)\n",
    "        return hash % self.MAX     # self.MAX = 100\n",
    "# defining a function to add values in the hash map\n",
    "    def __setitem__(self, key, value):\n",
    "        h = self.get_hash(key)\n",
    "        self.arr[h] = value\n",
    "        print(\"value added\")\n",
    "\n",
    "    # defining a function to get the value from the hash map\n",
    "    def __getitem__(self, key):\n",
    "        h = self.get_hash(key)\n",
    "        return self.arr[h]\n",
    "\n",
    "    # delete item function\n",
    "    def __delitem__(self, key):\n",
    "        h = self.get_hash(key)\n",
    "        self.arr[h] = None\n",
    "        return self.arr[h]\n",
    "        \n",
    "    "
   ]
  },
  {
   "cell_type": "code",
   "execution_count": 58,
   "id": "5bc26bc7-2e71-4a1b-9c20-654cf9ff5f5e",
   "metadata": {},
   "outputs": [],
   "source": [
    "t = HashTable()"
   ]
  },
  {
   "cell_type": "code",
   "execution_count": 59,
   "id": "34854c3f-7515-40b7-844f-bce08526b406",
   "metadata": {},
   "outputs": [
    {
     "name": "stdout",
     "output_type": "stream",
     "text": [
      "value added\n",
      "value added\n",
      "value added\n"
     ]
    }
   ],
   "source": [
    "# adding value in hash table\n",
    "t['march 6'] = 130\n",
    "t['march 1'] = 430\n",
    "t['dec 6'] = 13"
   ]
  },
  {
   "cell_type": "code",
   "execution_count": 60,
   "id": "fe861c44-56ee-43c3-85f6-8192baead2f6",
   "metadata": {},
   "outputs": [
    {
     "data": {
      "text/plain": [
       "130"
      ]
     },
     "execution_count": 60,
     "metadata": {},
     "output_type": "execute_result"
    }
   ],
   "source": [
    "# getting the value\n",
    "t['march 6']"
   ]
  },
  {
   "cell_type": "code",
   "execution_count": 56,
   "id": "809b127d-333b-4937-98a1-8ea082df0fa5",
   "metadata": {},
   "outputs": [
    {
     "data": {
      "text/plain": [
       "[None,\n",
       " None,\n",
       " None,\n",
       " None,\n",
       " 430,\n",
       " None,\n",
       " None,\n",
       " None,\n",
       " None,\n",
       " 130,\n",
       " None,\n",
       " None,\n",
       " None,\n",
       " None,\n",
       " None,\n",
       " None,\n",
       " None,\n",
       " None,\n",
       " None,\n",
       " None,\n",
       " None,\n",
       " None,\n",
       " None,\n",
       " None,\n",
       " None,\n",
       " None,\n",
       " None,\n",
       " None,\n",
       " None,\n",
       " None,\n",
       " None,\n",
       " None,\n",
       " None,\n",
       " None,\n",
       " None,\n",
       " None,\n",
       " None,\n",
       " None,\n",
       " None,\n",
       " None,\n",
       " None,\n",
       " None,\n",
       " None,\n",
       " None,\n",
       " None,\n",
       " None,\n",
       " None,\n",
       " None,\n",
       " None,\n",
       " None,\n",
       " None,\n",
       " None,\n",
       " None,\n",
       " None,\n",
       " None,\n",
       " None,\n",
       " None,\n",
       " None,\n",
       " None,\n",
       " None,\n",
       " None,\n",
       " None,\n",
       " None,\n",
       " None,\n",
       " None,\n",
       " None,\n",
       " None,\n",
       " None,\n",
       " None,\n",
       " None,\n",
       " None,\n",
       " None,\n",
       " None,\n",
       " None,\n",
       " None,\n",
       " None,\n",
       " None,\n",
       " None,\n",
       " None,\n",
       " None,\n",
       " None,\n",
       " None,\n",
       " None,\n",
       " None,\n",
       " None,\n",
       " None,\n",
       " 13,\n",
       " None,\n",
       " None,\n",
       " None,\n",
       " None,\n",
       " None,\n",
       " None,\n",
       " None,\n",
       " None,\n",
       " None,\n",
       " None,\n",
       " None,\n",
       " None,\n",
       " None]"
      ]
     },
     "execution_count": 56,
     "metadata": {},
     "output_type": "execute_result"
    }
   ],
   "source": [
    "# to show the complete array\n",
    "t.arr"
   ]
  },
  {
   "cell_type": "code",
   "execution_count": 61,
   "id": "48e0bd35-6b91-4b0f-9065-418f5259decd",
   "metadata": {},
   "outputs": [],
   "source": [
    "del t['march 6']"
   ]
  },
  {
   "cell_type": "code",
   "execution_count": 62,
   "id": "0d764a25-523c-4686-ba8d-4e74fbcac85f",
   "metadata": {},
   "outputs": [
    {
     "data": {
      "text/plain": [
       "[None,\n",
       " None,\n",
       " None,\n",
       " None,\n",
       " 430,\n",
       " None,\n",
       " None,\n",
       " None,\n",
       " None,\n",
       " None,\n",
       " None,\n",
       " None,\n",
       " None,\n",
       " None,\n",
       " None,\n",
       " None,\n",
       " None,\n",
       " None,\n",
       " None,\n",
       " None,\n",
       " None,\n",
       " None,\n",
       " None,\n",
       " None,\n",
       " None,\n",
       " None,\n",
       " None,\n",
       " None,\n",
       " None,\n",
       " None,\n",
       " None,\n",
       " None,\n",
       " None,\n",
       " None,\n",
       " None,\n",
       " None,\n",
       " None,\n",
       " None,\n",
       " None,\n",
       " None,\n",
       " None,\n",
       " None,\n",
       " None,\n",
       " None,\n",
       " None,\n",
       " None,\n",
       " None,\n",
       " None,\n",
       " None,\n",
       " None,\n",
       " None,\n",
       " None,\n",
       " None,\n",
       " None,\n",
       " None,\n",
       " None,\n",
       " None,\n",
       " None,\n",
       " None,\n",
       " None,\n",
       " None,\n",
       " None,\n",
       " None,\n",
       " None,\n",
       " None,\n",
       " None,\n",
       " None,\n",
       " None,\n",
       " None,\n",
       " None,\n",
       " None,\n",
       " None,\n",
       " None,\n",
       " None,\n",
       " None,\n",
       " None,\n",
       " None,\n",
       " None,\n",
       " None,\n",
       " None,\n",
       " None,\n",
       " None,\n",
       " None,\n",
       " None,\n",
       " None,\n",
       " None,\n",
       " 13,\n",
       " None,\n",
       " None,\n",
       " None,\n",
       " None,\n",
       " None,\n",
       " None,\n",
       " None,\n",
       " None,\n",
       " None,\n",
       " None,\n",
       " None,\n",
       " None,\n",
       " None]"
      ]
     },
     "execution_count": 62,
     "metadata": {},
     "output_type": "execute_result"
    }
   ],
   "source": [
    "t.arr"
   ]
  },
  {
   "cell_type": "markdown",
   "id": "f2bbc5b3-052a-4e22-9f04-61fb41eb17a0",
   "metadata": {},
   "source": [
    "# Collision handling in part 2"
   ]
  }
 ],
 "metadata": {
  "kernelspec": {
   "display_name": "Python 3 (ipykernel)",
   "language": "python",
   "name": "python3"
  },
  "language_info": {
   "codemirror_mode": {
    "name": "ipython",
    "version": 3
   },
   "file_extension": ".py",
   "mimetype": "text/x-python",
   "name": "python",
   "nbconvert_exporter": "python",
   "pygments_lexer": "ipython3",
   "version": "3.13.3"
  }
 },
 "nbformat": 4,
 "nbformat_minor": 5
}
