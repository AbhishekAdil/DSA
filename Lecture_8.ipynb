{
 "cells": [
  {
   "cell_type": "markdown",
   "id": "2d8b222f-56b9-4532-9b86-d2b84f297a85",
   "metadata": {},
   "source": [
    "# Queue : "
   ]
  },
  {
   "cell_type": "markdown",
   "id": "c84338cf-5419-4b77-9b71-f8c7b2e40fa9",
   "metadata": {},
   "source": [
    "* Using list as a queue "
   ]
  },
  {
   "cell_type": "code",
   "execution_count": 2,
   "id": "898e0350-4c8a-429c-a749-74531ca53d4f",
   "metadata": {},
   "outputs": [],
   "source": [
    "wmt_stock_price_queue = []   # creating a list"
   ]
  },
  {
   "cell_type": "code",
   "execution_count": 3,
   "id": "34f5ed77-b1c2-4797-a962-cca2dc8b1e55",
   "metadata": {},
   "outputs": [],
   "source": [
    "wmt_stock_price_queue.insert(0, 130)\n",
    "wmt_stock_price_queue.insert(0, 132)\n",
    "wmt_stock_price_queue.insert(0, 133)\n",
    "# inserting the elements in 0th position means pushing the remaining elements forward"
   ]
  },
  {
   "cell_type": "code",
   "execution_count": 4,
   "id": "45c1f7e2-9b71-45a1-b56e-f179e6a514e7",
   "metadata": {},
   "outputs": [
    {
     "data": {
      "text/plain": [
       "[133, 132, 130]"
      ]
     },
     "execution_count": 4,
     "metadata": {},
     "output_type": "execute_result"
    }
   ],
   "source": [
    "wmt_stock_price_queue"
   ]
  },
  {
   "cell_type": "code",
   "execution_count": 5,
   "id": "94ac85bd-3696-437a-a3e6-f66503c89bc7",
   "metadata": {},
   "outputs": [
    {
     "data": {
      "text/plain": [
       "130"
      ]
     },
     "execution_count": 5,
     "metadata": {},
     "output_type": "execute_result"
    }
   ],
   "source": [
    "wmt_stock_price_queue.pop()  # FIFO"
   ]
  },
  {
   "cell_type": "code",
   "execution_count": 6,
   "id": "9b765d5f-38f3-4042-b2d4-85f5b2d5d82c",
   "metadata": {},
   "outputs": [
    {
     "data": {
      "text/plain": [
       "132"
      ]
     },
     "execution_count": 6,
     "metadata": {},
     "output_type": "execute_result"
    }
   ],
   "source": [
    "wmt_stock_price_queue.pop()"
   ]
  },
  {
   "cell_type": "code",
   "execution_count": 7,
   "id": "a0df734e-af1b-489f-a291-e818a5b0b189",
   "metadata": {},
   "outputs": [
    {
     "data": {
      "text/plain": [
       "133"
      ]
     },
     "execution_count": 7,
     "metadata": {},
     "output_type": "execute_result"
    }
   ],
   "source": [
    "wmt_stock_price_queue.pop()  "
   ]
  },
  {
   "cell_type": "code",
   "execution_count": 8,
   "id": "8523962e-3f97-44e3-b6d5-b6a8782af43c",
   "metadata": {},
   "outputs": [
    {
     "ename": "IndexError",
     "evalue": "pop from empty list",
     "output_type": "error",
     "traceback": [
      "\u001b[31m---------------------------------------------------------------------------\u001b[39m",
      "\u001b[31mIndexError\u001b[39m                                Traceback (most recent call last)",
      "\u001b[36mCell\u001b[39m\u001b[36m \u001b[39m\u001b[32mIn[8]\u001b[39m\u001b[32m, line 1\u001b[39m\n\u001b[32m----> \u001b[39m\u001b[32m1\u001b[39m \u001b[43mwmt_stock_price_queue\u001b[49m\u001b[43m.\u001b[49m\u001b[43mpop\u001b[49m\u001b[43m(\u001b[49m\u001b[43m)\u001b[49m  \n",
      "\u001b[31mIndexError\u001b[39m: pop from empty list"
     ]
    }
   ],
   "source": [
    "wmt_stock_price_queue.pop()  "
   ]
  },
  {
   "cell_type": "markdown",
   "id": "8422f3ef-b687-466a-a24f-9c649e43bf64",
   "metadata": {},
   "source": [
    "It has problem assosiated with dynamic array, such as when you are allocating new elements andif it exists the \n",
    "capacity it will have to allocate new memory area and then it will have to copy all those elements.\n",
    "\n",
    "Using list as a queue is not vwry much reccomended "
   ]
  },
  {
   "cell_type": "markdown",
   "id": "46ef26ad-d051-4aa3-ae0c-5425a9395e5b",
   "metadata": {},
   "source": [
    "# Using collections.deque as a queue"
   ]
  },
  {
   "cell_type": "code",
   "execution_count": 9,
   "id": "06157afd-fb86-4433-95af-2158f662edda",
   "metadata": {},
   "outputs": [],
   "source": [
    "from collections import deque\n",
    "q = deque()"
   ]
  },
  {
   "cell_type": "markdown",
   "id": "3908e335-8a63-4b60-bf17-549a77ee1f04",
   "metadata": {},
   "source": [
    "appendleft(x)\n",
    "\n",
    "    Add x to the left side of the deque"
   ]
  },
  {
   "cell_type": "code",
   "execution_count": 10,
   "id": "198e58f8-5bdf-4fc1-ab86-f8199c4c1c37",
   "metadata": {},
   "outputs": [],
   "source": [
    "q.appendleft(5)\n",
    "q.appendleft(8)\n",
    "q.appendleft(27)"
   ]
  },
  {
   "cell_type": "code",
   "execution_count": 11,
   "id": "44e7c36f-655c-407f-8073-40efdf9b341c",
   "metadata": {},
   "outputs": [
    {
     "data": {
      "text/plain": [
       "5"
      ]
     },
     "execution_count": 11,
     "metadata": {},
     "output_type": "execute_result"
    }
   ],
   "source": [
    "q.pop()"
   ]
  },
  {
   "cell_type": "code",
   "execution_count": 12,
   "id": "8d64bfde-5290-4f68-ab74-6112825bd9b0",
   "metadata": {},
   "outputs": [
    {
     "data": {
      "text/plain": [
       "8"
      ]
     },
     "execution_count": 12,
     "metadata": {},
     "output_type": "execute_result"
    }
   ],
   "source": [
    "q.pop()"
   ]
  },
  {
   "cell_type": "code",
   "execution_count": 13,
   "id": "60c11a71-fae1-40cc-a792-56222fd92e79",
   "metadata": {},
   "outputs": [
    {
     "data": {
      "text/plain": [
       "27"
      ]
     },
     "execution_count": 13,
     "metadata": {},
     "output_type": "execute_result"
    }
   ],
   "source": [
    "q.pop()"
   ]
  },
  {
   "cell_type": "code",
   "execution_count": 14,
   "id": "65e32df2-b8d5-49f2-b16e-cd1e1954e6d0",
   "metadata": {},
   "outputs": [
    {
     "ename": "IndexError",
     "evalue": "pop from an empty deque",
     "output_type": "error",
     "traceback": [
      "\u001b[31m---------------------------------------------------------------------------\u001b[39m",
      "\u001b[31mIndexError\u001b[39m                                Traceback (most recent call last)",
      "\u001b[36mCell\u001b[39m\u001b[36m \u001b[39m\u001b[32mIn[14]\u001b[39m\u001b[32m, line 1\u001b[39m\n\u001b[32m----> \u001b[39m\u001b[32m1\u001b[39m \u001b[43mq\u001b[49m\u001b[43m.\u001b[49m\u001b[43mpop\u001b[49m\u001b[43m(\u001b[49m\u001b[43m)\u001b[49m\n",
      "\u001b[31mIndexError\u001b[39m: pop from an empty deque"
     ]
    }
   ],
   "source": [
    "q.pop()"
   ]
  },
  {
   "cell_type": "markdown",
   "id": "07ab6228-6b3b-44fc-9752-fa4dd045bf3f",
   "metadata": {},
   "source": [
    "# Implement queue class using collections.deque"
   ]
  },
  {
   "cell_type": "code",
   "execution_count": 42,
   "id": "dbd4b31e-07cb-4cf4-9b0d-cc817e18a8d7",
   "metadata": {},
   "outputs": [],
   "source": [
    "from collections import deque\n",
    "\n",
    "class Queue:\n",
    "    def __init__(self):\n",
    "        self.buffer = deque()\n",
    "\n",
    "    def enqueue(self, value):\n",
    "        self.buffer.appendleft(value)\n",
    "\n",
    "    def dequeue(self):\n",
    "        return self.buffer.pop()\n",
    "\n",
    "    def is_empty(self):\n",
    "        return len(self.buffer) == 0\n",
    "\n",
    "    def size(self):\n",
    "        return len(self.buffer)"
   ]
  },
  {
   "cell_type": "code",
   "execution_count": 43,
   "id": "36e6ef3d-13e7-4897-a700-21a37c193902",
   "metadata": {},
   "outputs": [],
   "source": [
    "pq = Queue()\n",
    "\n",
    "pq.enqueue({\n",
    "    'company' : 'Wal Mart',\n",
    "    'timestamp' : '15 apr, 11:01 AM',\n",
    "    'price' : 131\n",
    "})\n",
    "pq.enqueue({\n",
    "    'company' : 'Wal Mart',\n",
    "    'timestamp' : '15 apr, 11:02 AM',\n",
    "    'price' : 132\n",
    "})\n",
    "pq.enqueue({\n",
    "    'company' : 'Wal Mart',\n",
    "    'timestamp' : '15 apr, 11:03 AM',\n",
    "    'price' : 133\n",
    "})"
   ]
  },
  {
   "cell_type": "code",
   "execution_count": 44,
   "id": "12fce0fe-4ace-41bb-b9f4-573577a0c2e9",
   "metadata": {},
   "outputs": [
    {
     "data": {
      "text/plain": [
       "3"
      ]
     },
     "execution_count": 44,
     "metadata": {},
     "output_type": "execute_result"
    }
   ],
   "source": [
    "pq.size()"
   ]
  },
  {
   "cell_type": "code",
   "execution_count": 45,
   "id": "d35d77db-6c45-4f16-aa1a-019628613686",
   "metadata": {},
   "outputs": [
    {
     "data": {
      "text/plain": [
       "False"
      ]
     },
     "execution_count": 45,
     "metadata": {},
     "output_type": "execute_result"
    }
   ],
   "source": [
    "pq.is_empty()"
   ]
  },
  {
   "cell_type": "code",
   "execution_count": 46,
   "id": "04d2ae47-6cf9-4bfb-9d91-854b489b0fb8",
   "metadata": {},
   "outputs": [
    {
     "data": {
      "text/plain": [
       "deque([{'company': 'Wal Mart', 'timestamp': '15 apr, 11:03 AM', 'price': 133},\n",
       "       {'company': 'Wal Mart', 'timestamp': '15 apr, 11:02 AM', 'price': 132},\n",
       "       {'company': 'Wal Mart', 'timestamp': '15 apr, 11:01 AM', 'price': 131}])"
      ]
     },
     "execution_count": 46,
     "metadata": {},
     "output_type": "execute_result"
    }
   ],
   "source": [
    "pq.buffer"
   ]
  },
  {
   "cell_type": "code",
   "execution_count": 47,
   "id": "1e71ca1a-bedb-4230-afec-943b23445e14",
   "metadata": {},
   "outputs": [
    {
     "data": {
      "text/plain": [
       "{'company': 'Wal Mart', 'timestamp': '15 apr, 11:01 AM', 'price': 131}"
      ]
     },
     "execution_count": 47,
     "metadata": {},
     "output_type": "execute_result"
    }
   ],
   "source": [
    "pq.dequeue()"
   ]
  },
  {
   "cell_type": "code",
   "execution_count": 48,
   "id": "a8a238c1-04f1-4273-95f8-1e488aaff394",
   "metadata": {},
   "outputs": [
    {
     "data": {
      "text/plain": [
       "{'company': 'Wal Mart', 'timestamp': '15 apr, 11:02 AM', 'price': 132}"
      ]
     },
     "execution_count": 48,
     "metadata": {},
     "output_type": "execute_result"
    }
   ],
   "source": [
    "pq.dequeue()"
   ]
  },
  {
   "cell_type": "code",
   "execution_count": 49,
   "id": "1b4a1d91-d0c3-4bc4-8a76-388faac50483",
   "metadata": {},
   "outputs": [
    {
     "data": {
      "text/plain": [
       "{'company': 'Wal Mart', 'timestamp': '15 apr, 11:03 AM', 'price': 133}"
      ]
     },
     "execution_count": 49,
     "metadata": {},
     "output_type": "execute_result"
    }
   ],
   "source": [
    "pq.dequeue()"
   ]
  },
  {
   "cell_type": "code",
   "execution_count": 50,
   "id": "3250f19e-bd82-43cb-8ccc-249e109935a5",
   "metadata": {},
   "outputs": [
    {
     "data": {
      "text/plain": [
       "True"
      ]
     },
     "execution_count": 50,
     "metadata": {},
     "output_type": "execute_result"
    }
   ],
   "source": [
    "pq.is_empty()"
   ]
  },
  {
   "cell_type": "markdown",
   "id": "199ffae7-2137-4da7-8f34-be2495746a90",
   "metadata": {},
   "source": [
    "# Exercise"
   ]
  },
  {
   "cell_type": "markdown",
   "id": "182ec125-a958-4f68-9e4c-d1aa7f19b4b9",
   "metadata": {},
   "source": [
    "1) Design a food ordering system where your python program will run two threads,\n",
    "\n",
    "Place Order: This thread will be placing an order and inserting that into a queue. This thread places new order every 0.5 second. (hint: use time.sleep(0.5) function)\n",
    "\n",
    "Serve Order: This thread will server the order. All you need to do is pop the order out of the queue and print it. This thread serves an order every 2 seconds. Also start this thread 1 second after place order thread is started.\n",
    "\n",
    "Pass following list as an argument to place order thread,\n",
    "\n",
    "orders = ['pizza','samosa','pasta','biryani','burger']\n",
    "\n",
    "This problem is a producer,consumer problem where place_order thread is producing orders whereas server_order thread is consuming the food orders. Use Queue class implemented in a video tutorial."
   ]
  },
  {
   "cell_type": "code",
   "execution_count": 6,
   "id": "7cb30c2e-c0fe-49be-88ac-542c09b28064",
   "metadata": {},
   "outputs": [
    {
     "name": "stdout",
     "output_type": "stream",
     "text": [
      "Defaulting to user installation because normal site-packages is not writeable\n",
      "Collecting multithreading\n",
      "  Downloading multithreading-0.2.0-py3-none-any.whl.metadata (1.1 kB)\n",
      "Downloading multithreading-0.2.0-py3-none-any.whl (6.7 kB)\n",
      "Installing collected packages: multithreading\n",
      "Successfully installed multithreading-0.2.0\n",
      "Note: you may need to restart the kernel to use updated packages.\n"
     ]
    }
   ],
   "source": [
    "pip install multithreading"
   ]
  },
  {
   "cell_type": "code",
   "execution_count": null,
   "id": "f6e61f53-fa70-446d-953d-ebca6f254c11",
   "metadata": {},
   "outputs": [],
   "source": [
    "import threading\n",
    "import time\n",
    "\n",
    "from collections import deque\n",
    "\n",
    "class Queue:\n",
    "    def __init__(self):\n",
    "        self.buffer = deque()\n",
    "\n",
    "    def enqueue(self, value):\n",
    "        self.buffer.appendleft(value)\n",
    "\n",
    "    def dequeue(self):\n",
    "        if len(self.buffer)==0:\n",
    "            print(\"Queue is empty\")\n",
    "            return\n",
    "\n",
    "        return self.buffer.pop()\n",
    "\n",
    "    def is_empty(self):\n",
    "        return len(self.buffer) == 0\n",
    "\n",
    "    def size(self):\n",
    "        return len(self.buffer)\n",
    "\n",
    "food_order_queue = Queue()\n",
    "\n",
    "def place_orders(orders):\n",
    "    for order in orders:\n",
    "        print(\"Placing order for:\", order)\n",
    "        food_order_queue.enqueue(order)\n",
    "        time.sleep(0.5)\n",
    "\n",
    "def serve_orders():\n",
    "    time.sleep(1)\n",
    "    while True:\n",
    "        order = food_order_queue.dequeue()\n",
    "        print(\"Now serving: \", order)\n",
    "        time.sleep(2)\n",
    "\n",
    "if __name__ == '__main__':\n",
    "    start_time = time.time()\n",
    "    \n",
    "    orders = ['pizza','samosa','pasta','biryani','burger']\n",
    "    t1 = threading.Thread(target=place_orders, args=(orders,))\n",
    "    t2 = threading.Thread(target=serve_orders)\n",
    "\n",
    "    t1.start()\n",
    "    t2.start() \n",
    "\n",
    "    t1.join()\n",
    "    t2.join()\n",
    "\n",
    "    print(f\"Total time: {time.time() - start_time:.2f} seconds\")"
   ]
  },
  {
   "cell_type": "markdown",
   "id": "395bdc0f-2674-4390-9bb0-25b121053aba",
   "metadata": {},
   "source": [
    "2) Write a program to print binary numbers from 1 to 10 using Queue. Use Queue class implemented in main tutorial. Binary sequence should look like,"
   ]
  },
  {
   "cell_type": "markdown",
   "id": "5d674fdc-cea8-4d50-932f-9fa549b6c7bc",
   "metadata": {},
   "source": [
    "    1\n",
    "    10\n",
    "    11\n",
    "    100\n",
    "    101\n",
    "    110\n",
    "    111\n",
    "    1000\n",
    "    1001\n",
    "    1010"
   ]
  },
  {
   "cell_type": "markdown",
   "id": "2f284680-f944-4cc7-9a18-f1785a4a973f",
   "metadata": {},
   "source": [
    "Hint: Notice a pattern above. After 1 second and third number is 1+0 and 1+1. 4th and 5th number are second number (i.e. 10) + 0 and second number (i.e. 10) + 1.\n",
    "\n",
    "You also need to add front() function in queue class that can return the front element in the queue."
   ]
  },
  {
   "cell_type": "markdown",
   "id": "af507470-3ef6-4445-b3fc-c5583fd0386a",
   "metadata": {},
   "source": [
    "The front() operation allows you to retrieve the first element of the queue without removing it from the queue."
   ]
  },
  {
   "cell_type": "code",
   "execution_count": 2,
   "id": "c2008aee-ab23-45f1-aae4-ffca1d0347dd",
   "metadata": {},
   "outputs": [
    {
     "name": "stdout",
     "output_type": "stream",
     "text": [
      "    1\n",
      "    10\n",
      "    11\n",
      "    100\n",
      "    101\n",
      "    110\n",
      "    111\n",
      "    1000\n",
      "    1001\n",
      "    1010\n"
     ]
    }
   ],
   "source": [
    "from collections import deque\n",
    "\n",
    "class Queue:\n",
    "    def __init__(self):\n",
    "        self.buffer = deque()\n",
    "\n",
    "    def enqueue(self, val):\n",
    "        self.buffer.appendleft(val)\n",
    "\n",
    "    def dequeue(self):\n",
    "        if len(self.buffer)==0:\n",
    "            print(\"Queue is empty\")\n",
    "            return\n",
    "\n",
    "        return self.buffer.pop()\n",
    "\n",
    "    def is_empty(self):\n",
    "        return len(self.buffer) == 0\n",
    "\n",
    "    def size(self):\n",
    "        return len(self.buffer)\n",
    "\n",
    "    def front(self):\n",
    "        return self.buffer[-1]\n",
    "\n",
    "def produce_binary_numbers(n):\n",
    "    numbers_queue = Queue()\n",
    "    numbers_queue.enqueue(\"1\")\n",
    "\n",
    "    for i in range(n):\n",
    "        front = numbers_queue.front()\n",
    "        print(\"   \", front)\n",
    "        numbers_queue.enqueue(front + \"0\")\n",
    "        numbers_queue.enqueue(front + \"1\")\n",
    "\n",
    "        numbers_queue.dequeue()\n",
    "\n",
    "\n",
    "if __name__ == '__main__':\n",
    "    produce_binary_numbers(10)"
   ]
  },
  {
   "cell_type": "code",
   "execution_count": null,
   "id": "5721dd5b-fb4c-4082-b322-328757f617e1",
   "metadata": {},
   "outputs": [],
   "source": []
  }
 ],
 "metadata": {
  "kernelspec": {
   "display_name": "Python 3 (ipykernel)",
   "language": "python",
   "name": "python3"
  },
  "language_info": {
   "codemirror_mode": {
    "name": "ipython",
    "version": 3
   },
   "file_extension": ".py",
   "mimetype": "text/x-python",
   "name": "python",
   "nbconvert_exporter": "python",
   "pygments_lexer": "ipython3",
   "version": "3.13.3"
  }
 },
 "nbformat": 4,
 "nbformat_minor": 5
}
